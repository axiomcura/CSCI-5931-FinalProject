{
    "cells": [
        {
            "cell_type": "code",
            "execution_count": 3,
            "metadata": {},
            "outputs": [],
            "source": [
                "import pathlib\n",
                "\n",
                "import pandas as pd"
            ]
        },
        {
            "cell_type": "code",
            "execution_count": 8,
            "metadata": {},
            "outputs": [],
            "source": [
                "# setting up paths\n",
                "data_dir = pathlib.Path(\"../../data\").resolve(strict=True)\n",
                "mitocheck_data_path = (data_dir / \"raw/mitocheck_data/extracted_features\").resolve(\n",
                "    strict=True\n",
                ")\n",
                "\n",
                "\n",
                "# creating\n",
                "processed_dir = (data_dir / \"processed\").resolve()\n",
                "processed_dir.mkdir(exist_ok=True)"
            ]
        },
        {
            "cell_type": "markdown",
            "metadata": {},
            "source": [
                "## Dataset Loading Procedure\n",
                "\n",
                "In this section, we load three essential datasets: negative controls, positive controls, and training data.\n",
                "\n",
                "- **Negative Controls:** These cells are treated with scramble siRNA, indicating no specific gene inhibition. Hence, no significant effects are expected.\n",
                "  \n",
                "- **Positive Controls:** These cells are treated with siRNA targeting specific genes, providing a basis for comparison and validation.\n",
                "\n",
                "    - **COPB1 siRNA:** COPB1 is involved in intracellular protein trafficking. When targeted by siRNA, reduced COPB1 levels disrupt protein transport, potentially affecting secretion, membrane integrity, and organelle homeostasis.\n",
                "\n",
                "    - **INCENP siRNA:** INCENP regulates cell division. siRNA against INCENP leads to disrupted mitosis, causing defects in chromosome alignment, kinetochore-microtubule attachment, and cytokinesis, potentially resulting in cell death or genomic instability.\n",
                "\n",
                "    - **KIF11 siRNA:** KIF11 mediates mitotic spindle formation. Targeting KIF11 with siRNA impairs spindle assembly and chromosome segregation, leading to mitotic arrest, aberrant chromosome segregation, and potential cell cycle defects or cell death.\n",
                "\n",
                "- **Training Data:** These are labeled datasets meticulously curated from the Mitocheck consortium, serving as the foundation for our analysis.\n",
                "\n",
                "The shapes of the dataframe are in (number of cells, morphological features) format"
            ]
        },
        {
            "cell_type": "code",
            "execution_count": 12,
            "metadata": {},
            "outputs": [],
            "source": [
                "# loading in dataset\n",
                "neg_df = pd.concat(\n",
                "    [\n",
                "        pd.read_csv(data_path)\n",
                "        for data_path in list(\n",
                "            (mitocheck_data_path / \"negative_control_data/merged_features\")\n",
                "            .resolve(strict=True)\n",
                "            .glob(\"*.csv.gz\")\n",
                "        )\n",
                "    ]\n",
                ")\n",
                "pos_df = pd.concat(\n",
                "    [\n",
                "        pd.read_csv(data_path)\n",
                "        for data_path in list(\n",
                "            (mitocheck_data_path / \"positive_control_data/merged_features\")\n",
                "            .resolve(strict=True)\n",
                "            .glob(\"*.csv.gz\")\n",
                "        )\n",
                "    ]\n",
                ")\n",
                "training_df = pd.concat(\n",
                "    [\n",
                "        pd.read_csv(data_path)\n",
                "        for data_path in list(\n",
                "            (mitocheck_data_path / \"training_data/merged_features\")\n",
                "            .resolve(strict=True)\n",
                "            .glob(\"*.csv.gz\")\n",
                "        )\n",
                "    ]\n",
                ")"
            ]
        },
        {
            "cell_type": "code",
            "execution_count": 19,
            "metadata": {},
            "outputs": [
                {
                    "name": "stdout",
                    "output_type": "stream",
                    "text": [
                        "negative control dataset is: (779993, 1457)\n",
                        "Positive control dataset is: (612059, 1457)\n",
                        "training dataset is: (64513, 1458)\n"
                    ]
                }
            ],
            "source": [
                "# looking at the sizes of th dataset\n",
                "print(\"Negative control dataset is:\", neg_df.shape)\n",
                "print(\"Positive control dataset is:\", pos_df.shape)\n",
                "print(\"training dataset is:\", training_df.shape)"
            ]
        },
        {
            "cell_type": "code",
            "execution_count": 24,
            "metadata": {},
            "outputs": [
                {
                    "name": "stdout",
                    "output_type": "stream",
                    "text": [
                        "siRNA's sued for negative controls: ['negative control']\n",
                        "siRNA's used for positive controls: ['COPB' 'ENSG00000149503' 'KIF11']\n"
                    ]
                }
            ],
            "source": [
                "print(\"siRNA's used for negative controls:\", neg_df[\"Metadata_Gene\"].unique())\n",
                "print(\"siRNA's used for positive controls:\", pos_df[\"Metadata_Gene\"].unique())"
            ]
        },
        {
            "cell_type": "code",
            "execution_count": 38,
            "metadata": {},
            "outputs": [
                {
                    "name": "stdout",
                    "output_type": "stream",
                    "text": [
                        "Number of plates in the neg dataset 510\n",
                        "Number of plates in the pos dataset 510\n",
                        "Number of plates in the training dataset 67\n"
                    ]
                }
            ],
            "source": [
                "print(\"Number of plates in the neg dataset\", len(neg_df[\"Metadata_Plate\"].unique()))\n",
                "print(\"Number of plates in the pos dataset\", len(pos_df[\"Metadata_Plate\"].unique()))\n",
                "print(\n",
                "    \"Number of plates in the training dataset\",\n",
                "    len(training_df[\"Metadata_Plate\"].unique()),\n",
                ")"
            ]
        },
        {
            "cell_type": "markdown",
            "metadata": {},
            "source": [
                "## Exploring The training Dataset"
            ]
        }
    ],
    "metadata": {
        "kernelspec": {
            "display_name": "final",
            "language": "python",
            "name": "python3"
        },
        "language_info": {
            "codemirror_mode": {
                "name": "ipython",
                "version": 3
            },
            "file_extension": ".py",
            "mimetype": "text/x-python",
            "name": "python",
            "nbconvert_exporter": "python",
            "pygments_lexer": "ipython3",
            "version": "3.11.9"
        }
    },
    "nbformat": 4,
    "nbformat_minor": 2
}
