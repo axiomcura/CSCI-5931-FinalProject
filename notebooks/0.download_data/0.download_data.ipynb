{
 "cells": [
  {
   "cell_type": "markdown",
   "metadata": {},
   "source": [
    "# Downloadling MitoCheck data"
   ]
  },
  {
   "cell_type": "code",
   "execution_count": 1,
   "metadata": {},
   "outputs": [],
   "source": [
    "import os\n",
    "import zipfile\n",
    "import requests\n",
    "import pathlib"
   ]
  },
  {
   "cell_type": "markdown",
   "metadata": {},
   "source": [
    "## Parameters and File Paths"
   ]
  },
  {
   "cell_type": "code",
   "execution_count": 5,
   "metadata": {},
   "outputs": [],
   "source": [
    "url = \"https://zenodo.org/records/7967386/files/1.idr_streams__extracted_features.zip?download=1\"\n",
    "chunk_size = 8192\n",
    "\n",
    "# setting data directory path\n",
    "data_dir = pathlib.Path(\"../../data\").resolve(strict=True)\n",
    "\n",
    "# create raw sub directory\n",
    "raw_data_dir = (data_dir / \"raw\").resolve()\n",
    "raw_data_dir.mkdir(exist_ok=True)\n",
    "\n",
    "# output file name\n",
    "data_out_path = (raw_data_dir / \"1.idr_stream__extracted_featres.zip\").resolve()\n"
   ]
  },
  {
   "cell_type": "markdown",
   "metadata": {},
   "source": [
    "## Downloading the dataset from he Zenodoo repository."
   ]
  },
  {
   "cell_type": "code",
   "execution_count": 12,
   "metadata": {},
   "outputs": [],
   "source": [
    "# downloading training data using requests\n",
    "with requests.get(url, stream=True) as r:\n",
    "\n",
    "    # raise error if the there's an error\n",
    "    r.raise_for_status()\n",
    "\n",
    "    # creating a file to write the downloaded contents in chunks\n",
    "    with open(data_out_path, mode=\"wb\") as out_file:\n",
    "        for chunk in r.iter_content(chunk_size=chunk_size):\n",
    "            out_file.write(chunk)\n"
   ]
  },
  {
   "cell_type": "code",
   "execution_count": 9,
   "metadata": {},
   "outputs": [],
   "source": [
    "# then lets unzip the file\n",
    "with zipfile.ZipFile(data_out_path, mode=\"r\") as zip_file_contents:\n",
    "    zip_file_contents.extractall(raw_data_dir / \"mitocheck_data\")"
   ]
  }
 ],
 "metadata": {
  "kernelspec": {
   "display_name": "final",
   "language": "python",
   "name": "python3"
  },
  "language_info": {
   "codemirror_mode": {
    "name": "ipython",
    "version": 3
   },
   "file_extension": ".py",
   "mimetype": "text/x-python",
   "name": "python",
   "nbconvert_exporter": "python",
   "pygments_lexer": "ipython3",
   "version": "3.11.9"
  }
 },
 "nbformat": 4,
 "nbformat_minor": 2
}
